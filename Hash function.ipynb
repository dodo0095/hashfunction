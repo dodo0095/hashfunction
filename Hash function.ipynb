{
 "cells": [
  {
   "cell_type": "code",
   "execution_count": 1,
   "metadata": {},
   "outputs": [],
   "source": [
    "# Left rotate\n",
    "def lrot(byte_string, offset):\n",
    "    for i in range(offset):\n",
    "        byte_string = byte_string[1:]+byte_string[0]\n",
    "    return byte_string\n",
    "\n",
    "\n",
    "# Transfer num to binary (string), e.g \"00101011\"\n",
    "def b(num, bits=8):\n",
    "    if -num > 2**(bits-1) or num > 2**(bits-1) - 1:\n",
    "        return format(num, \"b\")[-bits:]\n",
    "\n",
    "    maximum = 2 ** bits - 1\n",
    "    if num < 0:\n",
    "        n = format((-num - 1) ^ maximum, \"b\")\n",
    "        if bits - len(n) > 0:\n",
    "            return \"1\"*(bits - len(n)) + n\n",
    "        else:\n",
    "            return n\n",
    "    else:\n",
    "        n = format(num, \"b\")\n",
    "        if bits - len(n) > 0:\n",
    "            return \"0\"*(bits - len(n)) + n\n",
    "        else:\n",
    "            return n\n",
    "\n",
    "\n",
    "# Transfer binary to num.\n",
    "def to_num(input_bits):\n",
    "    return int(input_bits, 2)\n",
    "\n",
    "\n",
    "# Get a whole dict of words\n",
    "def first_part_to_80_words(string):\n",
    "    chunked_dict = {}\n",
    "    s = \"\"\n",
    "    for i in string:\n",
    "        s += b(ord(i))  # String to ASCII.\n",
    "    org_len = len(s)  # Original length of input string\n",
    "    s += \"1\"  # Append '1'.\n",
    "    amount = (512 * ((len(s) // 512) + 1) - (len(s) - 448)) % 512  # Append some zero's to make s congruent to 448 % 512.\n",
    "    s += \"0\" * amount\n",
    "    s += b(org_len, bits=64)  # Append Original length of input string in 64-bit.\n",
    "    for x in range(len(s)//512):  # One chunk deal with up to 512 bit.\n",
    "        chunked_dict[x] = {}\n",
    "        for y in range(16):\n",
    "            chunked_dict[x][y] = s[0:32]  # Store words (32-bit).\n",
    "            s = s[32:]\n",
    "\n",
    "    for i in chunked_dict.keys():  # Extend to 80 words.\n",
    "        ini = 16\n",
    "        for j in range(ini, 80):\n",
    "            # d[i-3], d[i-8], d[i-14], d[i-16]\n",
    "            xor_res = to_num(chunked_dict[i][j-3]) ^ to_num(chunked_dict[i][j-8])\n",
    "            xor_res = xor_res ^ to_num(chunked_dict[i][j-14])\n",
    "            xor_res = xor_res ^ to_num(chunked_dict[i][j-16])\n",
    "            new_bits = b(xor_res, bits=32)\n",
    "            new_bits = new_bits[1:] + new_bits[0]\n",
    "            chunked_dict[i][j] = new_bits\n",
    "    return chunked_dict\n",
    "\n",
    "\n",
    "# Main loop\n",
    "def hash_sha1(string):\n",
    "    def function_1(x, y, z):\n",
    "        f = b((x & y) | (~x & z), 32)\n",
    "        k = \"01011010100000100111100110011001\"\n",
    "        return f, k\n",
    "\n",
    "    def function_2(x, y, z):\n",
    "        f = b((x ^ y) ^ z, 32)\n",
    "        k = \"01101110110110011110101110100001\"\n",
    "        return f, k\n",
    "\n",
    "    def function_3(x, y, z):\n",
    "        f = b((x & y) | (x & z) | (y & z), 32)\n",
    "        k = \"10001111000110111011110011011100\"\n",
    "        return f, k\n",
    "\n",
    "    def function_4(x, y, z):\n",
    "        f = b((x ^ y) ^ z, 32)\n",
    "        k = \"11001010011000101100000111010110\"\n",
    "        return f, k\n",
    "\n",
    "    print(\"Our input data is \",\"「\",string,\"」\")\n",
    "    h0 = \"01100111010001010010001100000001\"\n",
    "    h1 = \"11101111110011011010101110001001\"\n",
    "    h2 = \"10011000101110101101110011111110\"\n",
    "    h3 = \"00010000001100100101010001110110\"\n",
    "    h4 = \"11000011110100101110000111110000\"\n",
    "    \n",
    "    byte_dict = first_part_to_80_words(string)\n",
    "    for key in byte_dict.keys():\n",
    "        A = h0\n",
    "        B = h1\n",
    "        C = h2\n",
    "        D = h3\n",
    "        E = h4\n",
    "\n",
    "        for i in range(80):\n",
    "            if i < 20:\n",
    "                F, K = function_1(to_num(B), to_num(C), to_num(D))\n",
    "            elif i < 40:\n",
    "                F, K = function_2(to_num(B), to_num(C), to_num(D))\n",
    "            elif i < 60:\n",
    "                F, K = function_3(to_num(B), to_num(C), to_num(D))\n",
    "            elif i < 80:\n",
    "                F, K = function_4(to_num(B), to_num(C), to_num(D))\n",
    "\n",
    "            temp = to_num(lrot(A, 5)) + to_num(F) + to_num(E) + to_num(K) + to_num(byte_dict[key][i])\n",
    "            temp = b(temp, 32)\n",
    "\n",
    "            E = D\n",
    "            D = C\n",
    "            C = lrot(B, 30)\n",
    "            B = A\n",
    "            A = temp\n",
    "\n",
    "        h0 = b((to_num(h0) + to_num(A)), 32)\n",
    "        h1 = b((to_num(h1) + to_num(B)), 32)\n",
    "        h2 = b((to_num(h2) + to_num(C)), 32)\n",
    "        h3 = b((to_num(h3) + to_num(D)), 32)\n",
    "        h4 = b((to_num(h4) + to_num(E)), 32)\n",
    "\n",
    "    s0 = hex(int(h0, 2))[2:]\n",
    "    s1 = hex(int(h1, 2))[2:]\n",
    "    s2 = hex(int(h2, 2))[2:]\n",
    "    s3 = hex(int(h3, 2))[2:]\n",
    "    s4 = hex(int(h4, 2))[2:]\n",
    "    print(end=\"\\n\")\n",
    "    print(\"After hash function\", end=\"\\n\")\n",
    "    print(\"Digest/Hashes number is \", end=\"\\n\")\n",
    "    print(\"-->\",s0 + s1 + s2 + s3 + s4)\n",
    "    #return s0 + s1 + s2 + s3 + s4\n"
   ]
  },
  {
   "cell_type": "code",
   "execution_count": 2,
   "metadata": {},
   "outputs": [
    {
     "name": "stdout",
     "output_type": "stream",
     "text": [
      "Our input data is  「 TEST 」\n",
      "\n",
      "After hash function\n",
      "Digest/Hashes number is \n",
      "--> 984816fd329622876e14907634264e6f332e9fb3\n"
     ]
    }
   ],
   "source": [
    "hash_sha1(\"TEST\")"
   ]
  },
  {
   "cell_type": "code",
   "execution_count": 3,
   "metadata": {},
   "outputs": [
    {
     "name": "stdout",
     "output_type": "stream",
     "text": [
      "Our input data is  「 Hash 」\n",
      "\n",
      "After hash function\n",
      "Digest/Hashes number is \n",
      "--> 873507a022b58de26a88deae87268cbd8d6af5b1\n"
     ]
    }
   ],
   "source": [
    "hash_sha1(\"Hash\")"
   ]
  },
  {
   "cell_type": "code",
   "execution_count": 4,
   "metadata": {},
   "outputs": [
    {
     "name": "stdout",
     "output_type": "stream",
     "text": [
      "Our input data is  「 professor rusell is a good teacher 」\n",
      "\n",
      "After hash function\n",
      "Digest/Hashes number is \n",
      "--> 6d5ba4336157f9f9f5dd5e9af5598827ac147700\n"
     ]
    }
   ],
   "source": [
    "hash_sha1(\"professor rusell is a good teacher\")"
   ]
  }
 ],
 "metadata": {
  "kernelspec": {
   "display_name": "Python 3",
   "language": "python",
   "name": "python3"
  },
  "language_info": {
   "codemirror_mode": {
    "name": "ipython",
    "version": 3
   },
   "file_extension": ".py",
   "mimetype": "text/x-python",
   "name": "python",
   "nbconvert_exporter": "python",
   "pygments_lexer": "ipython3",
   "version": "3.6.3"
  }
 },
 "nbformat": 4,
 "nbformat_minor": 2
}
